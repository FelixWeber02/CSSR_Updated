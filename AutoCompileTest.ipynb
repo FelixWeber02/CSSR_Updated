{
 "cells": [
  {
   "cell_type": "code",
   "execution_count": null,
   "id": "neural-tourist",
   "metadata": {},
   "outputs": [],
   "source": [
    "#Automated TimeVar executable generator\n",
    "#Felix"
   ]
  },
  {
   "cell_type": "code",
   "execution_count": 25,
   "id": "interracial-russell",
   "metadata": {},
   "outputs": [],
   "source": [
    "import subprocess\n",
    "import os"
   ]
  },
  {
   "cell_type": "code",
   "execution_count": 48,
   "id": "metallic-subsection",
   "metadata": {},
   "outputs": [],
   "source": [
    "#Settings\n",
    "\n",
    "N_Past = 10\n",
    "N_Fut = 2"
   ]
  },
  {
   "cell_type": "code",
   "execution_count": 49,
   "id": "periodic-instrumentation",
   "metadata": {},
   "outputs": [],
   "source": [
    "#Change file of TimeSeries.cpp\n",
    "\n",
    "file = open('TimeSeries.cpp')\n",
    "#print(file.read())\n",
    "\n",
    "script = file.read()\n",
    "parse = script.split(sep='#define N_PAST_SAMPLES ')\n",
    "subparse = parse[1].split(sep='\\n')\n",
    "subparse[0] = str(N_Past)\n",
    "parse1 = ''\n",
    "for line in subparse:\n",
    "    parse1 += line + '\\n'\n",
    "script = parse[0] + '#define N_PAST_SAMPLES '+ parse1\n",
    "\n",
    "parse = script.split(sep='#define N_FUTURE_SAMPLES ')\n",
    "subparse = parse[1].split(sep='\\n')\n",
    "subparse[0] = str(N_Fut)\n",
    "parse1 = ''\n",
    "for line in subparse:\n",
    "    parse1 += line + '\\n'\n",
    "script = parse[0] + '#define N_FUTURE_SAMPLES '+ parse1"
   ]
  },
  {
   "cell_type": "code",
   "execution_count": 50,
   "id": "sexual-disorder",
   "metadata": {},
   "outputs": [
    {
     "name": "stdout",
     "output_type": "stream",
     "text": [
      "CompletedProcess(args='g++ -I /opt/local/libexec/boost/1.71/include -o TimeVar_10_2 TimeSeries.cpp', returncode=0, stdout=b'', stderr=b'')\n"
     ]
    }
   ],
   "source": [
    "# Compile File\n",
    "\n",
    "res = subprocess.run(\"g++ -I /opt/local/libexec/boost/1.71/include -o TimeVar_\"+str(N_Past)+\"_\"+str(N_Fut) + \" TimeSeries.cpp\", shell=True, capture_output=True) \n",
    "print(res)"
   ]
  },
  {
   "cell_type": "code",
   "execution_count": 39,
   "id": "weighted-wilson",
   "metadata": {},
   "outputs": [
    {
     "name": "stdout",
     "output_type": "stream",
     "text": [
      "CompletedProcess(args='pwd', returncode=0, stdout=b'/Users/felixweber/Desktop/Decisional-States/Compiled\\n', stderr=b'')\n"
     ]
    }
   ],
   "source": [
    "res = subprocess.run(\"pwd\",shell=True, capture_output=True)\n",
    "print(res)"
   ]
  },
  {
   "cell_type": "code",
   "execution_count": 55,
   "id": "seven-turkey",
   "metadata": {},
   "outputs": [
    {
     "data": {
      "text/plain": [
       "0"
      ]
     },
     "execution_count": 55,
     "metadata": {},
     "output_type": "execute_result"
    }
   ],
   "source": [
    "len(res.stderr)"
   ]
  },
  {
   "cell_type": "code",
   "execution_count": null,
   "id": "bearing-christian",
   "metadata": {},
   "outputs": [],
   "source": []
  }
 ],
 "metadata": {
  "kernelspec": {
   "display_name": "Python 3",
   "language": "python",
   "name": "python3"
  },
  "language_info": {
   "codemirror_mode": {
    "name": "ipython",
    "version": 3
   },
   "file_extension": ".py",
   "mimetype": "text/x-python",
   "name": "python",
   "nbconvert_exporter": "python",
   "pygments_lexer": "ipython3",
   "version": "3.9.1"
  }
 },
 "nbformat": 4,
 "nbformat_minor": 5
}
